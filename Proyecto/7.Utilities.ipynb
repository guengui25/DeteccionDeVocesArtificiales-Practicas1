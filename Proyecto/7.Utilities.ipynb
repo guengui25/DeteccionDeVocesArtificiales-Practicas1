{
 "cells": [
  {
   "cell_type": "markdown",
   "metadata": {},
   "source": [
    "# Uso de los modelos con nuevos datos"
   ]
  },
  {
   "cell_type": "code",
   "execution_count": 1,
   "metadata": {},
   "outputs": [],
   "source": [
    "import librosa\n",
    "import joblib\n",
    "import numpy as np"
   ]
  },
  {
   "cell_type": "code",
   "execution_count": 2,
   "metadata": {},
   "outputs": [],
   "source": [
    "# Ejemplo audio real\n",
    "audio_path_real = 'dataset/validation/real/file4.wav_16k.wav_norm.wav_mono.wav_silence.wav'\n",
    "\n",
    "# Ejemplo audio fake\n",
    "audio_path_fake = 'dataset/validation/fake/file1.mp3.wav_16k.wav_norm.wav_mono.wav_silence.wav'\n",
    "\n",
    "# Array con varios audios reales\n",
    "audio_path_real_array = [\n",
    "    'dataset/validation/real/file5.wav_16k.wav_norm.wav_mono.wav_silence.wav',\n",
    "    'dataset/validation/real/file8.wav_16k.wav_norm.wav_mono.wav_silence.wav',\n",
    "    'dataset/validation/real/file18.wav_16k.wav_norm.wav_mono.wav_silence.wav',\n",
    "    'dataset/validation/real/file20.wav_16k.wav_norm.wav_mono.wav_silence.wav',\n",
    "    'dataset/validation/real/file21.wav_16k.wav_norm.wav_mono.wav_silence.wav',\n",
    "    'dataset/validation/real/file37.wav_16k.wav_norm.wav_mono.wav_silence.wav',\n",
    "    'dataset/validation/real/file38.wav_16k.wav_norm.wav_mono.wav_silence.wav',\n",
    "    'dataset/validation/real/file40.wav_16k.wav_norm.wav_mono.wav_silence.wav',\n",
    "    'dataset/validation/real/file45.wav_16k.wav_norm.wav_mono.wav_silence.wav',\n",
    "    'dataset/validation/real/file46.wav_16k.wav_norm.wav_mono.wav_silence.wav',\n",
    "]\n",
    "\n",
    "# Array con varios audios fakes\n",
    "\n",
    "audio_path_fake_array = [\n",
    "    'dataset/validation/fake/file242.mp3.wav_16k.wav_norm.wav_mono.wav_silence.wav',\n",
    "    'dataset/validation/fake/file19.mp3.wav_16k.wav_norm.wav_mono.wav_silence.wav',\n",
    "    'dataset/validation/fake/file39.mp3.wav_16k.wav_norm.wav_mono.wav_silence.wav',\n",
    "    'dataset/validation/fake/file47.wav_16k.wav_norm.wav_mono.wav_silence.wav',\n",
    "    'dataset/validation/fake/file48.wav_16k.wav_norm.wav_mono.wav_silence.wav',\n",
    "    'dataset/validation/fake/file56.mp3.wav_16k.wav_norm.wav_mono.wav_silence.wav',\n",
    "    'dataset/validation/fake/file74.wav_16k.wav_norm.wav_mono.wav_silence.wav',\n",
    "    'dataset/validation/fake/file78.mp3.wav_16k.wav_norm.wav_mono.wav_silence.wav',\n",
    "    'dataset/validation/fake/file90.mp3.wav_16k.wav_norm.wav_mono.wav_silence.wav',\n",
    "    'dataset/validation/fake/file94.mp3.wav_16k.wav_norm.wav_mono.wav_silence.wav',\n",
    "]"
   ]
  },
  {
   "cell_type": "markdown",
   "metadata": {},
   "source": [
    "## Características MFCC"
   ]
  },
  {
   "cell_type": "code",
   "execution_count": 3,
   "metadata": {},
   "outputs": [],
   "source": [
    "# Función para extraer características MFCC de un archivo de audio\n",
    "def extract_mfcc(file_path, n_mfcc=13):\n",
    "    try:\n",
    "        y, sr = librosa.load(file_path, sr=None)\n",
    "        mfcc = librosa.feature.mfcc(y=y, sr=sr, n_mfcc=n_mfcc)\n",
    "        mfcc_mean = np.mean(mfcc.T, axis=0)\n",
    "        return mfcc_mean\n",
    "    except Exception as e:\n",
    "        print(f\"Error al procesar {file_path}: {e}\")\n",
    "        return None"
   ]
  },
  {
   "cell_type": "code",
   "execution_count": 4,
   "metadata": {},
   "outputs": [],
   "source": [
    "# Cargo los modelos entrenados (con mayor precisión) para cada algoritmo\n",
    "random_forest_mfcc = joblib.load('models/random_forest/random_forest_mfcc_model.pkl')\n",
    "knn_mfcc = joblib.load('models/KNN/knn_mfcc_model_k1150.pkl')\n",
    "svm_mfcc = joblib.load('models/SVM/svm_mfcc_model.pkl')\n",
    "mlp_mfcc = joblib.load('models/MLP/mlp_mfcc_model.pkl')\n",
    "XGBoost_mfcc = joblib.load('models/XGBoost/xgboost_mfcc_model.pkl')"
   ]
  },
  {
   "cell_type": "code",
   "execution_count": 5,
   "metadata": {},
   "outputs": [],
   "source": [
    "# Determino con cada modelo la probabilidad de que el audio sea real o falso con las características MFCC\n",
    "\n",
    "# Prediccion con todos los modelos\n",
    "def determinar_prediccion_all_models_mfcc(new_audio_path):\n",
    "    # Extraigo las características MFCC del nuevo audio\n",
    "    new_audio_mfcc = extract_mfcc(new_audio_path)\n",
    "\n",
    "    # Predicción con Random Forest\n",
    "    random_forest_mfcc_prediction = random_forest_mfcc.predict_proba([new_audio_mfcc])\n",
    "    print(f\"Random Forest: {random_forest_mfcc_prediction}\")\n",
    "\n",
    "    # Predicción con KNN\n",
    "    knn_mfcc_prediction = knn_mfcc.predict_proba([new_audio_mfcc])\n",
    "    print(f\"KNN: {knn_mfcc_prediction}\")\n",
    "\n",
    "    # Predicción con SVM\n",
    "    svm_mfcc_prediction = svm_mfcc.predict_proba([new_audio_mfcc])\n",
    "    print(f\"SVM: {svm_mfcc_prediction}\")\n",
    "\n",
    "    # Predicción con MLP\n",
    "    mlp_mfcc_prediction = mlp_mfcc.predict_proba([new_audio_mfcc])\n",
    "    print(f\"MLP: {mlp_mfcc_prediction}\")\n",
    "\n",
    "    # Predicción con XGBoost\n",
    "    XGBoost_mfcc_prediction = XGBoost_mfcc.predict_proba([new_audio_mfcc])\n",
    "    print(f\"XGBoost: {XGBoost_mfcc_prediction} \\n\\n\")\n",
    "\n",
    "# Predicción del modelo con más precisión (SVM)\n",
    "def determinar_prediccion_most_accurate_mfcc(new_audio_path):\n",
    "    # Extraigo las características MFCC del nuevo audio\n",
    "    new_audio_mfcc = extract_mfcc(new_audio_path)\n",
    "\n",
    "    # Predicción con SVM\n",
    "    svm_mfcc_prediction = svm_mfcc.predict_proba([new_audio_mfcc])\n",
    "\n",
    "    # Predicción del modelo con más precisión (SVM)\n",
    "    final_prediction = svm_mfcc_prediction\n",
    "    print(f\"Predicción del modelo con mayor precisión (SVM): {final_prediction}\")\n",
    "\n",
    "    # Si la predicción final es mayor a 0.5, el audio es real, de lo contrario es falso\n",
    "    prob_real = final_prediction[0][0]\n",
    "    prob_fake = final_prediction[0][1]\n",
    "\n",
    "    if prob_real > 0.5 and prob_real > prob_fake:\n",
    "        print(\"El audio es real \\n\\n\")\n",
    "    else:\n",
    "        print(\"El audio es falso \\n\\n\")"
   ]
  },
  {
   "cell_type": "markdown",
   "metadata": {},
   "source": [
    "No he tenido en cuenta los modelos con escala aplicada ya que siempre han sacado menor precisión que los modelos sin escala, es por ello que me limito a los modelos sin escala aplicada."
   ]
  },
  {
   "cell_type": "code",
   "execution_count": 6,
   "metadata": {},
   "outputs": [
    {
     "name": "stdout",
     "output_type": "stream",
     "text": [
      "Random Forest: [[0.99 0.01]]\n",
      "KNN: [[0.99043478 0.00956522]]\n",
      "SVM: [[0.95667605 0.04332395]]\n",
      "MLP: [[0.9989062 0.0010938]]\n",
      "XGBoost: [[0.99893886 0.00106115]] \n",
      "\n",
      "\n",
      "Random Forest: [[0.07 0.93]]\n",
      "KNN: [[0.22173913 0.77826087]]\n",
      "SVM: [[0.19073585 0.80926415]]\n",
      "MLP: [[1.6570091e-05 9.9998343e-01]]\n",
      "XGBoost: [[0.02279651 0.9772035 ]] \n",
      "\n",
      "\n"
     ]
    }
   ],
   "source": [
    "determinar_prediccion_all_models_mfcc(audio_path_real)\n",
    "determinar_prediccion_all_models_mfcc(audio_path_fake)"
   ]
  },
  {
   "cell_type": "markdown",
   "metadata": {},
   "source": [
    "Formato de la salida = [[ probabilidad_real    probabilidad_fake ]]"
   ]
  },
  {
   "cell_type": "code",
   "execution_count": 7,
   "metadata": {},
   "outputs": [
    {
     "name": "stdout",
     "output_type": "stream",
     "text": [
      "Predicción del modelo con mayor precisión (SVM): [[0.95667605 0.04332395]]\n",
      "El audio es real \n",
      "\n",
      "\n",
      "Predicción del modelo con mayor precisión (SVM): [[0.19073585 0.80926415]]\n",
      "El audio es falso \n",
      "\n",
      "\n"
     ]
    }
   ],
   "source": [
    "determinar_prediccion_most_accurate_mfcc(audio_path_real)\n",
    "determinar_prediccion_most_accurate_mfcc(audio_path_fake)"
   ]
  },
  {
   "cell_type": "code",
   "execution_count": 8,
   "metadata": {},
   "outputs": [
    {
     "name": "stdout",
     "output_type": "stream",
     "text": [
      "Predicción del modelo con mayor precisión (SVM): [[0.95763393 0.04236607]]\n",
      "El audio es real \n",
      "\n",
      "\n",
      "Predicción del modelo con mayor precisión (SVM): [[9.99913165e-01 8.68348755e-05]]\n",
      "El audio es real \n",
      "\n",
      "\n",
      "Predicción del modelo con mayor precisión (SVM): [[0.7990316 0.2009684]]\n",
      "El audio es real \n",
      "\n",
      "\n",
      "Predicción del modelo con mayor precisión (SVM): [[0.97074432 0.02925568]]\n",
      "El audio es real \n",
      "\n",
      "\n",
      "Predicción del modelo con mayor precisión (SVM): [[0.59157155 0.40842845]]\n",
      "El audio es real \n",
      "\n",
      "\n",
      "Predicción del modelo con mayor precisión (SVM): [[9.99236303e-01 7.63697372e-04]]\n",
      "El audio es real \n",
      "\n",
      "\n",
      "Predicción del modelo con mayor precisión (SVM): [[0.31181652 0.68818348]]\n",
      "El audio es falso \n",
      "\n",
      "\n",
      "Predicción del modelo con mayor precisión (SVM): [[0.43109564 0.56890436]]\n",
      "El audio es falso \n",
      "\n",
      "\n",
      "Predicción del modelo con mayor precisión (SVM): [[0.97566746 0.02433254]]\n",
      "El audio es real \n",
      "\n",
      "\n",
      "Predicción del modelo con mayor precisión (SVM): [[0.99186574 0.00813426]]\n",
      "El audio es real \n",
      "\n",
      "\n"
     ]
    }
   ],
   "source": [
    "# Pruebas con el array real\n",
    "for audio in audio_path_real_array:\n",
    "    determinar_prediccion_most_accurate_mfcc(audio)"
   ]
  },
  {
   "cell_type": "code",
   "execution_count": 51,
   "metadata": {},
   "outputs": [
    {
     "name": "stdout",
     "output_type": "stream",
     "text": [
      "Predicción del modelo con mayor precisión (SVM): [[0.33251997 0.66748003]]\n",
      "El audio es falso \n",
      "\n",
      "\n",
      "Predicción del modelo con mayor precisión (SVM): [[0.30177645 0.69822355]]\n",
      "El audio es falso \n",
      "\n",
      "\n",
      "Predicción del modelo con mayor precisión (SVM): [[0.38864916 0.61135084]]\n",
      "El audio es falso \n",
      "\n",
      "\n",
      "Predicción del modelo con mayor precisión (SVM): [[8.06177032e-09 9.99999992e-01]]\n",
      "El audio es falso \n",
      "\n",
      "\n",
      "Predicción del modelo con mayor precisión (SVM): [[0.01022918 0.98977082]]\n",
      "El audio es falso \n",
      "\n",
      "\n",
      "Predicción del modelo con mayor precisión (SVM): [[0.22366495 0.77633505]]\n",
      "El audio es falso \n",
      "\n",
      "\n",
      "Predicción del modelo con mayor precisión (SVM): [[0.1095941 0.8904059]]\n",
      "El audio es falso \n",
      "\n",
      "\n",
      "Predicción del modelo con mayor precisión (SVM): [[0.03399102 0.96600898]]\n",
      "El audio es falso \n",
      "\n",
      "\n",
      "Predicción del modelo con mayor precisión (SVM): [[0.09468649 0.90531351]]\n",
      "El audio es falso \n",
      "\n",
      "\n",
      "Predicción del modelo con mayor precisión (SVM): [[2.22245205e-06 9.99997778e-01]]\n",
      "El audio es falso \n",
      "\n",
      "\n"
     ]
    }
   ],
   "source": [
    "# Pruebas con el array fake\n",
    "for audio in audio_path_fake_array:\n",
    "    determinar_prediccion_most_accurate_mfcc(audio)"
   ]
  },
  {
   "cell_type": "markdown",
   "metadata": {},
   "source": [
    "## Características espectrograma"
   ]
  },
  {
   "cell_type": "markdown",
   "metadata": {},
   "source": [
    "No se puede usar ya que no se han implementado los modelos con espectrogranas ya que pesan considerablemente más que los de MFCC y en pruebas previas no se ha determinado una mejora significativa en la precisión.\n",
    "\n",
    "El código presentado a continuación funciona con el espectrograma, pero no se ha ejecutado por carga computacional."
   ]
  },
  {
   "cell_type": "code",
   "execution_count": null,
   "metadata": {},
   "outputs": [],
   "source": [
    "# Función para extraer el espectrograma de un archivo de audio con longitud fija\n",
    "def extract_spectrogram(file_path, n_mels=128, max_len=1300):\n",
    "    try:\n",
    "        y, sr = librosa.load(file_path, sr=None)\n",
    "        S = librosa.feature.melspectrogram(y=y, sr=sr, n_mels=n_mels)\n",
    "        log_S = librosa.power_to_db(S, ref=np.max)\n",
    "        \n",
    "        # Ajustar la longitud del espectrograma\n",
    "        if log_S.shape[1] < max_len:\n",
    "            pad_width = max_len - log_S.shape[1]\n",
    "            log_S = np.pad(log_S, ((0, 0), (0, pad_width)), mode='constant')\n",
    "        elif log_S.shape[1] > max_len:\n",
    "            log_S = log_S[:, :max_len]\n",
    "        \n",
    "        return log_S.flatten()\n",
    "    except Exception as e:\n",
    "        print(f\"Error al procesar {file_path}: {e}\")\n",
    "        return None\n",
    "\n",
    "# Aplicar el escalado y PCA a las características del espectrograma\n",
    "\n",
    "def scale_pca_spectrogram(spectrogram):\n",
    "    # Cargar el escalador y PCA entrenado\n",
    "    scaler = joblib.load('data_preprocessed/scalers_PCA/scaler_spectrogram.pkl')\n",
    "    pca = joblib.load('data_preprocessed/scalers_PCA/pca_spectrogram.pkl')\n",
    "    \n",
    "    # Escalar las características del espectrograma\n",
    "    scaled_spectrogram = scaler.transform(spectrogram.reshape(1, -1))\n",
    "    \n",
    "    # Aplicar PCA\n",
    "    pca_spectrogram = pca.transform(scaled_spectrogram)\n",
    "    \n",
    "    return pca_spectrogram"
   ]
  },
  {
   "cell_type": "code",
   "execution_count": null,
   "metadata": {},
   "outputs": [],
   "source": [
    "# Cargo los modelos entrenados (con mayor precisión) para cada algoritmo\n",
    "random_forest_spectrogram = joblib.load('models/random_forest/random_forest_spectrogram_model.pkl')\n",
    "knn_spectrogram = joblib.load('models/KNN/knn_spectrogram_model_k1150.pkl')\n",
    "svm_spectrogram = joblib.load('models/SVM/svm_spectrogram_model.pkl')\n",
    "mlp_spectrogram = joblib.load('models/MLP/mlp_spectrogram_model.pkl')\n",
    "XGBoost_spectrogram = joblib.load('models/XGBoost/xgboost_spectrogram_model.pkl')"
   ]
  },
  {
   "cell_type": "code",
   "execution_count": null,
   "metadata": {},
   "outputs": [],
   "source": [
    "# Determino con cada modelo la probabilidad de que el audio sea real o falso con las características del espectrograma\n",
    "\n",
    "# Prediccion con todos los modelos\n",
    "def determinar_prediccion_all_models_spectrogram(new_audio_path):\n",
    "        \n",
    "    # Extraigo las características spectrogram del nuevo audio\n",
    "    new_audio_spectrogram = extract_spectrogram(new_audio_path)\n",
    "\n",
    "    # Escalo y aplico PCA a las características del espectrograma\n",
    "    new_audio_spectrogram = scale_pca_spectrogram(new_audio_spectrogram)\n",
    "\n",
    "    # Predicción con Random Forest\n",
    "    random_forest_spectrogram_prediction = random_forest_spectrogram.predict_proba([new_audio_spectrogram])\n",
    "    print(f\"Random Forest: {random_forest_spectrogram_prediction}\")\n",
    "    # Predicción con KNN\n",
    "    knn_spectrogram_prediction = knn_spectrogram.predict_proba([new_audio_spectrogram])\n",
    "    print(f\"KNN: {knn_spectrogram_prediction}\")\n",
    "\n",
    "    # Predicción con SVM\n",
    "    svm_spectrogram_prediction = svm_spectrogram.predict_proba([new_audio_spectrogram])\n",
    "    print(f\"SVM: {svm_spectrogram_prediction}\")\n",
    "\n",
    "    # Predicción con MLP\n",
    "    mlp_spectrogram_prediction = mlp_spectrogram.predict_proba([new_audio_spectrogram])\n",
    "    print(f\"MLP: {mlp_spectrogram_prediction}\")\n",
    "\n",
    "    # Predicción con XGBoost\n",
    "    XGBoost_spectrogram_prediction = XGBoost_spectrogram.predict_proba([new_audio_spectrogram])\n",
    "    print(f\"XGBoost: {XGBoost_spectrogram_prediction}\")\n",
    "\n",
    "# Predicción del modelo con más precisión (XXXX)\n",
    "def determinar_prediccion_most_accurate_spectrogram(new_audio_path):\n",
    "    # Extraigo las características spectrogram del nuevo audio\n",
    "    new_audio_spectrogram = extract_spectrogram(new_audio_path)\n",
    "\n",
    "    # Escalo y aplico PCA a las características del espectrograma\n",
    "    new_audio_spectrogram = scale_pca_spectrogram(new_audio_spectrogram)\n",
    "\n",
    "    # Predicción con SVM\n",
    "    svm_spectrogram_prediction = svm_spectrogram.predict_proba([new_audio_spectrogram])\n",
    "\n",
    "    # Predicción del modelo con más precisión (SVM)\n",
    "    final_prediction = svm_spectrogram_prediction\n",
    "    print(f\"Predicción del modelo con mayor precisión (SVM): {final_prediction}\")\n",
    "\n",
    "    # Si la predicción final es mayor a 0.5, el audio es real, de lo contrario es falso\n",
    "    prob_real = final_prediction[0][0]\n",
    "    prob_fake = final_prediction[0][1]\n",
    "\n",
    "    if prob_real > 0.5 and prob_real > prob_fake:\n",
    "        print(\"El audio es real\")\n",
    "    else:\n",
    "        print(\"El audio es falso\")"
   ]
  },
  {
   "cell_type": "code",
   "execution_count": null,
   "metadata": {},
   "outputs": [],
   "source": [
    "determinar_prediccion_all_models_spectrogram(new_audio_path)"
   ]
  },
  {
   "cell_type": "markdown",
   "metadata": {},
   "source": [
    "Formato de la salida = [[ probabilidad_real    probabilidad_fake ]]"
   ]
  },
  {
   "cell_type": "code",
   "execution_count": null,
   "metadata": {},
   "outputs": [],
   "source": [
    "determinar_prediccion_most_accurate_spectrogram(new_audio_path)"
   ]
  }
 ],
 "metadata": {
  "kernelspec": {
   "display_name": "Python 3",
   "language": "python",
   "name": "python3"
  },
  "language_info": {
   "codemirror_mode": {
    "name": "ipython",
    "version": 3
   },
   "file_extension": ".py",
   "mimetype": "text/x-python",
   "name": "python",
   "nbconvert_exporter": "python",
   "pygments_lexer": "ipython3",
   "version": "3.11.9"
  }
 },
 "nbformat": 4,
 "nbformat_minor": 2
}
