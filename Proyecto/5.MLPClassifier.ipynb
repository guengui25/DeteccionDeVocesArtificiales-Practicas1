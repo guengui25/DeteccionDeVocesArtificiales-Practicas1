{
 "cells": [
  {
   "cell_type": "code",
   "execution_count": 3,
   "metadata": {},
   "outputs": [],
   "source": [
    "# Importar las librerías necesarias\n",
    "# Manejo de datos\n",
    "import numpy as np\n",
    "\n",
    "# Guardar y cargar modelos\n",
    "import joblib\n",
    "\n",
    "# Usar el MLPClassifier\n",
    "from sklearn.neural_network import MLPClassifier\n",
    "from sklearn.metrics import accuracy_score, classification_report\n",
    "\n",
    "# Mostrar la matriz de confusión\n",
    "from sklearn.metrics import confusion_matrix, ConfusionMatrixDisplay\n",
    "import matplotlib.pyplot as plt"
   ]
  },
  {
   "cell_type": "markdown",
   "metadata": {},
   "source": [
    "## MFCC"
   ]
  },
  {
   "cell_type": "code",
   "execution_count": 4,
   "metadata": {},
   "outputs": [],
   "source": [
    "# Cargar los datos de entrenamiento\n",
    "y_train_mfcc = np.load('data_preprocessed/y_train_mfcc.npy')\n",
    "\n",
    "# Cargar los datos de prueba\n",
    "y_test_mfcc = np.load('data_preprocessed/y_test_mfcc.npy')\n",
    "\n",
    "# Cargar los datos no escalados\n",
    "X_train_mfcc = np.load('data_preprocessed/X_train_mfcc.npy')\n",
    "X_test_mfcc = np.load('data_preprocessed/X_test_mfcc.npy')\n",
    "\n",
    "# Cargar los datos ya escalados\n",
    "# X_train_mfcc = np.load('data_preprocessed/scalers_PCA/X_train_mfcc_scaled.npy')\n",
    "# X_test_mfcc = np.load('data_preprocessed/scalers_PCA/X_test_mfcc_scaled.npy')"
   ]
  },
  {
   "cell_type": "code",
   "execution_count": 5,
   "metadata": {},
   "outputs": [
    {
     "name": "stdout",
     "output_type": "stream",
     "text": [
      "MLP con MFCC - Precisión en prueba: 0.49503668536901163\n",
      "Reporte de clasificación (MLP con MFCC):\n",
      "              precision    recall  f1-score   support\n",
      "\n",
      "           0       0.49      0.96      0.65      2264\n",
      "           1       0.57      0.05      0.10      2370\n",
      "\n",
      "    accuracy                           0.50      4634\n",
      "   macro avg       0.53      0.51      0.37      4634\n",
      "weighted avg       0.53      0.50      0.37      4634\n",
      "\n"
     ]
    },
    {
     "data": {
      "text/plain": [
       "['models/MLP/mlp_mfcc_model.pkl']"
      ]
     },
     "execution_count": 5,
     "metadata": {},
     "output_type": "execute_result"
    }
   ],
   "source": [
    "# Crear y entrenar el modelo MLP\n",
    "clf_mlp_mfcc = MLPClassifier(hidden_layer_sizes=(100,), max_iter=300, random_state=42)\n",
    "clf_mlp_mfcc.fit(X_train_mfcc, y_train_mfcc)\n",
    "\n",
    "# Predecir en el conjunto de prueba\n",
    "y_pred_mlp_mfcc = clf_mlp_mfcc.predict(X_test_mfcc)\n",
    "\n",
    "# Evaluar el modelo\n",
    "print(\"MLP con MFCC - Precisión en prueba:\", accuracy_score(y_test_mfcc, y_pred_mlp_mfcc))\n",
    "print(\"Reporte de clasificación (MLP con MFCC):\")\n",
    "print(classification_report(y_test_mfcc, y_pred_mlp_mfcc))\n",
    "\n",
    "# Guardar el modelo MLP con MFCC\n",
    "joblib.dump(clf_mlp_mfcc, 'models/MLP/mlp_mfcc_model.pkl')"
   ]
  },
  {
   "cell_type": "markdown",
   "metadata": {},
   "source": [
    "Durante la realización de la memoria se ha vuelto a entrenar el algoritmo y ha bajado aún más la precisión respecto a los valores indicados en la memoria y en el texto existente en el proyecto (los valores de debajo).\n",
    "\n",
    "La precisión con escalado es 0.50237\n",
    "\n",
    "La precisión sin escalado es 0.51273"
   ]
  },
  {
   "cell_type": "code",
   "execution_count": 6,
   "metadata": {},
   "outputs": [
    {
     "data": {
      "image/png": "[encoded data removed]",
      "text/plain": [
       "<Figure size 640x480 with 2 Axes>"
      ]
     },
     "metadata": {},
     "output_type": "display_data"
    }
   ],
   "source": [
    "# Matriz de Confusión - MLP con MFCC\n",
    "cm_mlp_mfcc = confusion_matrix(y_test_mfcc, y_pred_mlp_mfcc)\n",
    "disp_mlp_mfcc = ConfusionMatrixDisplay(confusion_matrix=cm_mlp_mfcc, display_labels=['Real', 'Fake'])\n",
    "disp_mlp_mfcc.plot()\n",
    "plt.title('Matriz de Confusión - MLP con MFCC')\n",
    "plt.show()"
   ]
  },
  {
   "cell_type": "markdown",
   "metadata": {},
   "source": [
    "Ya que los resultados no son buenos, se podría realizar un ajuste de hiperparámetros con GridSearchCV, pero esto llevaría mucho tiempo y no garantiza que se obtenga un buen resultado. Por lo tanto se expone el código sin realizar el computo."
   ]
  },
  {
   "cell_type": "code",
   "execution_count": null,
   "metadata": {},
   "outputs": [],
   "source": [
    "# Ajuste de hiperparámetros con GridSearchCV (No computada)\n",
    "from sklearn.model_selection import GridSearchCV\n",
    "from sklearn.neural_network import MLPClassifier\n",
    "\n",
    "# Definir el espacio de hiperparámetros\n",
    "param_grid = {\n",
    "    'hidden_layer_sizes': [(50,), (100,), (50, 50), (100, 50), (100, 100, 50)],\n",
    "    'activation': ['relu', 'tanh', 'logistic'],\n",
    "    'solver': ['adam', 'sgd'],\n",
    "    'alpha': [1e-5, 1e-4, 1e-3],\n",
    "    'learning_rate': ['constant', 'adaptive'],\n",
    "    'learning_rate_init': [0.001, 0.01, 0.1],\n",
    "    'max_iter': [200, 500],\n",
    "    'early_stopping': [True, False],\n",
    "}\n",
    "\n",
    "# Crear el modelo base\n",
    "mlp = MLPClassifier(random_state=42)\n",
    "\n",
    "# Configurar GridSearchCV\n",
    "grid_search = GridSearchCV(mlp, param_grid, cv=3, scoring='accuracy', n_jobs=-1)\n",
    "\n",
    "# Ajustar el modelo\n",
    "grid_search.fit(X_train_mfcc, y_train_mfcc)\n",
    "\n",
    "# Mostrar los mejores hiperparámetros\n",
    "print(\"Mejores hiperparámetros:\", grid_search.best_params_)"
   ]
  },
  {
   "cell_type": "markdown",
   "metadata": {},
   "source": [
    "## Spectrogram"
   ]
  },
  {
   "cell_type": "markdown",
   "metadata": {},
   "source": [
    "No se ha implementado ya que pesa considerablemente más que el MFCC y en pruebas previas no se ha determinado una mejora significativa en la precisión.\n",
    "\n",
    "El código presentado a continuación funciona con el espectrograma, pero no se ha ejecutado por carga computacional."
   ]
  },
  {
   "cell_type": "code",
   "execution_count": null,
   "metadata": {},
   "outputs": [],
   "source": [
    "# Cargar los datos de entrenamiento\n",
    "y_train_spectrogram = np.load('data_preprocessed/y_train_spectrogram.npy')\n",
    "\n",
    "# Cargar los datos de prueba\n",
    "y_test_spectrogram = np.load('data_preprocessed/y_test_spectrogram.npy')\n",
    "\n",
    "# Cargar los datos con PCA ya aplicado \n",
    "X_train_spectrogram_pca = np.load('data_preprocessed/scalers_PCA/X_train_spectrogram_pca.npy')\n",
    "X_test_spectrogram_pca = np.load('data_preprocessed/scalers_PCA/X_test_spectrogram_pca.npy')"
   ]
  },
  {
   "cell_type": "code",
   "execution_count": null,
   "metadata": {},
   "outputs": [],
   "source": [
    "# Crear y entrenar el modelo MLP\n",
    "clf_mlp_spectrogram = MLPClassifier(hidden_layer_sizes=(100,), max_iter=300, random_state=42)\n",
    "clf_mlp_spectrogram.fit(X_train_spectrogram_pca, y_train_spectrogram)\n",
    "\n",
    "# Predecir en el conjunto de prueba\n",
    "y_pred_mlp_spectrogram = clf_mlp_spectrogram.predict(X_test_spectrogram_pca)\n",
    "\n",
    "# Evaluar el modelo\n",
    "print(\"MLP con Espectrograma - Precisión en prueba:\", accuracy_score(y_test_spectrogram, y_pred_mlp_spectrogram))\n",
    "print(\"Reporte de clasificación (MLP con Espectrograma):\")\n",
    "print(classification_report(y_test_spectrogram, y_pred_mlp_spectrogram))\n",
    "\n",
    "# Guardar el modelo MLP con espectrogramas\n",
    "joblib.dump(clf_mlp_spectrogram, 'models/MLP/mlp_spectrogram_model.pkl')"
   ]
  },
  {
   "cell_type": "code",
   "execution_count": null,
   "metadata": {},
   "outputs": [],
   "source": [
    "# Matriz de Confusión - MLP con Espectrograma\n",
    "cm_mlp_spectrogram = confusion_matrix(y_test_spectrogram, y_pred_mlp_spectrogram)\n",
    "disp_mlp_spectrogram = ConfusionMatrixDisplay(confusion_matrix=cm_mlp_spectrogram, display_labels=['Real', 'Fake'])\n",
    "disp_mlp_spectrogram.plot()\n",
    "plt.title('Matriz de Confusión - MLP con Espectrograma')\n",
    "plt.show()"
   ]
  }
 ],
 "metadata": {
  "kernelspec": {
   "display_name": ".venv",
   "language": "python",
   "name": "python3"
  },
  "language_info": {
   "codemirror_mode": {
    "name": "ipython",
    "version": 3
   },
   "file_extension": ".py",
   "mimetype": "text/x-python",
   "name": "python",
   "nbconvert_exporter": "python",
   "pygments_lexer": "ipython3",
   "version": "3.11.9"
  }
 },
 "nbformat": 4,
 "nbformat_minor": 2
}
